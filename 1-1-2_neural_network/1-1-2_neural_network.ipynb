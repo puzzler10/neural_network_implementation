{
 "cells": [
  {
   "cell_type": "code",
   "execution_count": 28,
   "metadata": {
    "collapsed": true
   },
   "outputs": [],
   "source": [
    "# todo: fix b1 "
   ]
  },
  {
   "cell_type": "markdown",
   "metadata": {},
   "source": [
    "This neural network has 1 input neuron, 1 hidden neuron, and 2 output neurons "
   ]
  },
  {
   "cell_type": "markdown",
   "metadata": {},
   "source": [
    "\n",
    "![](1-1-2_nnet.PNG)"
   ]
  },
  {
   "cell_type": "markdown",
   "metadata": {
    "collapsed": true
   },
   "source": [
    "Here's the computation and backpropagation graphs. The complex thing here is the multiple output neurons, which means that changing w1 or b1 affects the output of both neurons. This needs to be accounted for in the backpropagation algorithm. "
   ]
  },
  {
   "cell_type": "markdown",
   "metadata": {
    "collapsed": true
   },
   "source": [
    "<img src=\"backpropagation_1-1-2_wbox.svg\" />\n"
   ]
  },
  {
   "cell_type": "code",
   "execution_count": 2,
   "metadata": {
    "collapsed": true
   },
   "outputs": [],
   "source": [
    "import numpy as np \n",
    "from math import e "
   ]
  },
  {
   "cell_type": "code",
   "execution_count": 33,
   "metadata": {},
   "outputs": [
    {
     "name": "stdout",
     "output_type": "stream",
     "text": [
      "[ 0.7   0.71  0.4   0.88  0.11  0.3 ]\n",
      "0.614551301764\n",
      "[  2.31 -12.94   0.54 -12.     8.    -0.28]\n",
      "0.19841233927\n",
      "[  2.7  -13.84   0.56 -14.07   8.53  -0.29]\n",
      "0.196365677985\n",
      "[  3.02 -14.24   0.58 -15.8    8.73  -0.3 ]\n",
      "0.194239638307\n",
      "[  3.31 -14.47   0.6  -17.36   8.8   -0.31]\n",
      "0.192104144168\n",
      "[  3.58 -14.63   0.62 -18.78   8.82  -0.32]\n",
      "0.190090198744\n"
     ]
    }
   ],
   "source": [
    "step_size = 0.1\n",
    "n_epochs = 60000\n",
    "\n",
    "## create data \n",
    "X = np.array([1,2,3,4,5,6,7,8,9,10])\n",
    "Y = np.array([[1,0], [1,1], [1,0], [1,1], [1,0], [0,1], [0,0], [0,1], [0,0],[0,1]])\n",
    "\n",
    "# init weights and biases randomly\n",
    "w1,w2,w3,b1,b2,b3 = tuple(np.random.random(6))\n",
    "\n",
    "# define activation function \n",
    "def sigmoid(x): return e**x / (1 + e**x)\n",
    "\n",
    "for n in range(n_epochs):\n",
    "    for i in range(X.shape[0]):\n",
    "        # go up the computation graph \n",
    "        a0 = X[i]\n",
    "        y1 = Y[i,0]\n",
    "        y2 = Y[i,1]\n",
    "        \n",
    "        net1 = a0 * w1 + b1 \n",
    "        a1 = sigmoid(net1)\n",
    "        net2 = a1*w2 + b2 \n",
    "        net3 = a1*w3 + b3 \n",
    "        a2 = sigmoid(net2)\n",
    "        a3 = sigmoid(net3)\n",
    "        Cost = (a2 - y1) **2 + (a3 - y2)**2\n",
    "\n",
    "        \n",
    "        ## Backprop\n",
    "        dCost_dCost = 1 \n",
    "        # left branch\n",
    "        dCost_da2 = 2*(a2-y1) * dCost_dCost \n",
    "        dCost_dnet2 = sigmoid(net2) * (1 - sigmoid(net2)) * dCost_da2\n",
    "        dCost_dw2 = a1 * dCost_dnet2\n",
    "        dCost_db2 = 1 * dCost_dnet2\n",
    "        # right branch \n",
    "        dCost_da3 = 2 * (a3 - y2) * dCost_dCost\n",
    "        dCost_dnet3 = sigmoid(net3) * (1-sigmoid(net3)) * dCost_da3\n",
    "        dCost_dw3 = a1 * dCost_dnet3\n",
    "        dCost_db3 = 1 * dCost_dnet3\n",
    "        # merge \n",
    "        dCost_da1 = w2 * dCost_dw2 + w3*dCost_dw3 \n",
    "        dCost_dnet1 = sigmoid(net1) * (1-sigmoid(net1)) * dCost_da1\n",
    "        dCost_da0 = w1 * dCost_dnet1  # useless \n",
    "        dCost_dw1 = a0 * dCost_dnet1\n",
    "        dCost_db1 = 1 * dCost_dnet1\n",
    "\n",
    "        w1 += -1 * step_size * dCost_dw1\n",
    "        w2 += -1 * step_size * dCost_dw2\n",
    "        w3 += -1 * step_size * dCost_dw3\n",
    "        b1 += -1 * step_size * dCost_db1\n",
    "        b2 += -1 * step_size * dCost_db2\n",
    "        b3 += -1 * step_size * dCost_db3\n",
    "        \n",
    "    if n % 10000 == 0: \n",
    "        print(np.array([w1,w2,w3,b1,b2,b3]).round(2))\n",
    "        print(Cost)"
   ]
  },
  {
   "cell_type": "code",
   "execution_count": 34,
   "metadata": {},
   "outputs": [
    {
     "name": "stdout",
     "output_type": "stream",
     "text": [
      "[[ 1.    0.42]\n",
      " [ 1.    0.42]\n",
      " [ 1.    0.42]\n",
      " [ 1.    0.42]\n",
      " [ 0.99  0.46]\n",
      " [ 0.01  0.57]\n",
      " [ 0.    0.58]\n",
      " [ 0.    0.58]\n",
      " [ 0.    0.58]\n",
      " [ 0.    0.58]]\n",
      "[[1 0]\n",
      " [1 1]\n",
      " [1 0]\n",
      " [1 1]\n",
      " [1 0]\n",
      " [0 1]\n",
      " [0 0]\n",
      " [0 1]\n",
      " [0 0]\n",
      " [0 1]]\n"
     ]
    }
   ],
   "source": [
    "preds = []\n",
    "for i in range(X.shape[0]):\n",
    "    a0 = X[i]\n",
    "    y1 = Y[i,0]\n",
    "    y2 = Y[i,1]\n",
    "    net1 = a0 * w1 + b1 \n",
    "    a1 = sigmoid(net1)\n",
    "    net2 = a1*w2 + b2 \n",
    "    net3 = a1*w3 + b3 \n",
    "    a2 = sigmoid(net2)\n",
    "    a3 = sigmoid(net3)\n",
    "    preds.append([a2,a3])\n",
    "\n",
    "print(np.array(preds).round(2))\n",
    "print(Y)"
   ]
  }
 ],
 "metadata": {
  "kernelspec": {
   "display_name": "Python 3",
   "language": "python",
   "name": "python3"
  },
  "language_info": {
   "codemirror_mode": {
    "name": "ipython",
    "version": 3
   },
   "file_extension": ".py",
   "mimetype": "text/x-python",
   "name": "python",
   "nbconvert_exporter": "python",
   "pygments_lexer": "ipython3",
   "version": "3.6.1"
  }
 },
 "nbformat": 4,
 "nbformat_minor": 2
}
