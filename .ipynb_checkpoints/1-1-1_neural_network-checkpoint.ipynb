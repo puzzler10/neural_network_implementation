{
 "cells": [
  {
   "cell_type": "code",
   "execution_count": null,
   "metadata": {
    "collapsed": true
   },
   "outputs": [],
   "source": [
    "# todo: fix cost mistake on diagram"
   ]
  },
  {
   "cell_type": "markdown",
   "metadata": {},
   "source": [
    "Here's the network we'll be building: "
   ]
  },
  {
   "cell_type": "markdown",
   "metadata": {},
   "source": [
    "![](1-1-1_nnet.PNG)"
   ]
  },
  {
   "cell_type": "markdown",
   "metadata": {},
   "source": [
    "We'll use a sigmoid activation function this time with our backpropagation:"
   ]
  },
  {
   "cell_type": "markdown",
   "metadata": {
    "collapsed": true
   },
   "source": [
    "![](1-1-1_nnet_backprop_combined.PNG)"
   ]
  },
  {
   "cell_type": "markdown",
   "metadata": {
    "collapsed": true
   },
   "source": [
    "Let's begin."
   ]
  },
  {
   "cell_type": "code",
   "execution_count": 7,
   "metadata": {
    "collapsed": true
   },
   "outputs": [],
   "source": [
    "import numpy as np\n",
    "from math import e "
   ]
  },
  {
   "cell_type": "code",
   "execution_count": 34,
   "metadata": {},
   "outputs": [
    {
     "name": "stdout",
     "output_type": "stream",
     "text": [
      "0.583590850222\n",
      "[-0.54 -0.05 -0.68  0.22]\n",
      "9.93628882739e-05\n",
      "[ 14.69  -5.93   4.52  -9.12]\n",
      "4.07317420096e-05\n",
      "[ 14.79  -5.98   4.95 -10.  ]\n",
      "2.51644552248e-05\n",
      "[ 14.85  -6.     5.18 -10.48]\n",
      "1.80654585847e-05\n",
      "[ 14.89  -6.02   5.34 -10.8 ]\n"
     ]
    }
   ],
   "source": [
    "# Create some dummy data \n",
    "X = np.array([1,2,3,4,5,6,5,4,3,2,1])\n",
    "Y = np.array([0,0,1,1,1,1,1,1,1,0,0])\n",
    "\n",
    "# Init weights and biases randomly \n",
    "w1 = np.random.random()\n",
    "w2 = np.random.random()\n",
    "b1 = np.random.random()\n",
    "b2 = np.random.random()\n",
    "\n",
    "step_size = 5\n",
    "n_epoch = 1000\n",
    "\n",
    "# Forward pass \n",
    "for n in range(n_epoch):\n",
    "    for i in range(len(X)):\n",
    "        a0 = X[i]\n",
    "        y = Y[i]\n",
    "\n",
    "        def sigmoid(x): return e**x / (e**x + 1)\n",
    "\n",
    "        # go up the computational graph \n",
    "        net1 = a0 * w1 + b1 \n",
    "        a1 = sigmoid(net1)\n",
    "        net2 = a1 * w2 + b2 \n",
    "        a2 = sigmoid(net2)\n",
    "        Cost = (a2 - y)**2\n",
    "\n",
    "        # backprop\n",
    "        dCost_dCost = 1 \n",
    "        dCost_da2 = 2*(a2 - y) * dCost_dCost \n",
    "        dCost_dnet2 = (sigmoid(net2) * (1 - (sigmoid(net2)))) * dCost_da2 \n",
    "        dCost_da1 = w2 * dCost_dnet2\n",
    "        dCost_dw2 = a1 * dCost_dnet2 \n",
    "        dCost_db2 = 1 * dCost_dnet2 \n",
    "        dCost_dnet1 = (sigmoid(net1) * (1 - (sigmoid(net1)))) * dCost_da1\n",
    "        dCost_da0 = w1 * dCost_dnet1\n",
    "        dCost_dw1 = a0 * dCost_dnet1\n",
    "        dCost_db1 = 1 * dCost_dnet1\n",
    "\n",
    "        # update weights \n",
    "        b1 += step_size * -1 * dCost_db1\n",
    "        w1 += step_size * -1 * dCost_dw1\n",
    "        b2 += step_size * -1 * dCost_db2\n",
    "        w2 += step_size * -1 * dCost_dw2\n",
    "\n",
    "    \n",
    "    if n % 200 == 0 :\n",
    "        print (Cost)\n",
    "        print(np.array([b1, w1, b2, w2]).round(2))\n"
   ]
  },
  {
   "cell_type": "code",
   "execution_count": 35,
   "metadata": {
    "collapsed": true
   },
   "outputs": [],
   "source": [
    "preds = [ sigmoid(w2 *sigmoid(b1 + w1*X[i]) + b2) for i in range(len(X))]"
   ]
  },
  {
   "cell_type": "code",
   "execution_count": 36,
   "metadata": {},
   "outputs": [
    {
     "data": {
      "text/plain": [
       "[0.0037466632435566153,\n",
       " 0.0067801736780517549,\n",
       " 0.99344351361866645,\n",
       " 0.99578349174251057,\n",
       " 0.99578814678201832,\n",
       " 0.99578815794389164,\n",
       " 0.99578814678201832,\n",
       " 0.99578349174251057,\n",
       " 0.99344351361866645,\n",
       " 0.0067801736780517549,\n",
       " 0.0037466632435566153]"
      ]
     },
     "execution_count": 36,
     "metadata": {},
     "output_type": "execute_result"
    }
   ],
   "source": [
    "preds"
   ]
  },
  {
   "cell_type": "code",
   "execution_count": 30,
   "metadata": {},
   "outputs": [
    {
     "data": {
      "text/plain": [
       "array([0, 0, 1, 1, 1, 1, 1, 1, 1, 0, 0])"
      ]
     },
     "execution_count": 30,
     "metadata": {},
     "output_type": "execute_result"
    }
   ],
   "source": [
    "Y"
   ]
  },
  {
   "cell_type": "code",
   "execution_count": null,
   "metadata": {
    "collapsed": true
   },
   "outputs": [],
   "source": []
  }
 ],
 "metadata": {
  "kernelspec": {
   "display_name": "Python 3",
   "language": "python",
   "name": "python3"
  },
  "language_info": {
   "codemirror_mode": {
    "name": "ipython",
    "version": 3
   },
   "file_extension": ".py",
   "mimetype": "text/x-python",
   "name": "python",
   "nbconvert_exporter": "python",
   "pygments_lexer": "ipython3",
   "version": "3.6.1"
  }
 },
 "nbformat": 4,
 "nbformat_minor": 2
}
